{
  "nbformat": 4,
  "nbformat_minor": 0,
  "metadata": {
    "colab": {
      "provenance": []
    },
    "kernelspec": {
      "name": "python3",
      "display_name": "Python 3"
    },
    "language_info": {
      "name": "python"
    }
  },
  "cells": [
    {
      "cell_type": "markdown",
      "source": [
        "# Medical Chatbot using RAG"
      ],
      "metadata": {
        "id": "cz_5r_x0jXOD"
      }
    },
    {
      "cell_type": "markdown",
      "source": [
        "## Setup"
      ],
      "metadata": {
        "id": "b-DZP1mliDRp"
      }
    },
    {
      "cell_type": "code",
      "execution_count": 1,
      "metadata": {
        "colab": {
          "base_uri": "https://localhost:8080/"
        },
        "id": "8IlImZ5eZupS",
        "outputId": "06bc9178-c07e-4186-a1d7-c6c74cb98eee"
      },
      "outputs": [
        {
          "output_type": "stream",
          "name": "stdout",
          "text": [
            "Collecting PyMuPDF\n",
            "  Downloading pymupdf-1.25.5-cp39-abi3-manylinux2014_x86_64.manylinux_2_17_x86_64.whl.metadata (3.4 kB)\n",
            "Downloading pymupdf-1.25.5-cp39-abi3-manylinux2014_x86_64.manylinux_2_17_x86_64.whl (20.0 MB)\n",
            "\u001b[2K   \u001b[90m━━━━━━━━━━━━━━━━━━━━━━━━━━━━━━━━━━━━━━━━\u001b[0m \u001b[32m20.0/20.0 MB\u001b[0m \u001b[31m69.4 MB/s\u001b[0m eta \u001b[36m0:00:00\u001b[0m\n",
            "\u001b[?25hInstalling collected packages: PyMuPDF\n",
            "Successfully installed PyMuPDF-1.25.5\n"
          ]
        }
      ],
      "source": [
        "!pip install PyMuPDF"
      ]
    },
    {
      "cell_type": "code",
      "source": [
        "!pip uninstall -qqy jupyterlab kfp  # Remove unused conflicting packages\n",
        "!pip install -qU \"google-genai==1.7.0\" \"chromadb==0.6.3\""
      ],
      "metadata": {
        "colab": {
          "base_uri": "https://localhost:8080/"
        },
        "id": "6WNze_mscTcB",
        "outputId": "2da6f487-6cca-4ac7-99f9-3515dadee30f"
      },
      "execution_count": 22,
      "outputs": [
        {
          "output_type": "stream",
          "name": "stdout",
          "text": [
            "\u001b[33mWARNING: Skipping jupyterlab as it is not installed.\u001b[0m\u001b[33m\n",
            "\u001b[0m\u001b[33mWARNING: Skipping kfp as it is not installed.\u001b[0m\u001b[33m\n",
            "\u001b[2K     \u001b[90m━━━━━━━━━━━━━━━━━━━━━━━━━━━━━━━━━━━━━━━━\u001b[0m \u001b[32m67.3/67.3 kB\u001b[0m \u001b[31m3.1 MB/s\u001b[0m eta \u001b[36m0:00:00\u001b[0m\n",
            "\u001b[?25h  Installing build dependencies ... \u001b[?25l\u001b[?25hdone\n",
            "  Getting requirements to build wheel ... \u001b[?25l\u001b[?25hdone\n",
            "  Preparing metadata (pyproject.toml) ... \u001b[?25l\u001b[?25hdone\n",
            "\u001b[2K   \u001b[90m━━━━━━━━━━━━━━━━━━━━━━━━━━━━━━━━━━━━━━━━\u001b[0m \u001b[32m144.7/144.7 kB\u001b[0m \u001b[31m5.9 MB/s\u001b[0m eta \u001b[36m0:00:00\u001b[0m\n",
            "\u001b[2K   \u001b[90m━━━━━━━━━━━━━━━━━━━━━━━━━━━━━━━━━━━━━━━━\u001b[0m \u001b[32m611.1/611.1 kB\u001b[0m \u001b[31m21.3 MB/s\u001b[0m eta \u001b[36m0:00:00\u001b[0m\n",
            "\u001b[2K   \u001b[90m━━━━━━━━━━━━━━━━━━━━━━━━━━━━━━━━━━━━━━━━\u001b[0m \u001b[32m2.4/2.4 MB\u001b[0m \u001b[31m55.5 MB/s\u001b[0m eta \u001b[36m0:00:00\u001b[0m\n",
            "\u001b[2K   \u001b[90m━━━━━━━━━━━━━━━━━━━━━━━━━━━━━━━━━━━━━━━━\u001b[0m \u001b[32m284.2/284.2 kB\u001b[0m \u001b[31m17.3 MB/s\u001b[0m eta \u001b[36m0:00:00\u001b[0m\n",
            "\u001b[2K   \u001b[90m━━━━━━━━━━━━━━━━━━━━━━━━━━━━━━━━━━━━━━━━\u001b[0m \u001b[32m95.2/95.2 kB\u001b[0m \u001b[31m6.0 MB/s\u001b[0m eta \u001b[36m0:00:00\u001b[0m\n",
            "\u001b[2K   \u001b[90m━━━━━━━━━━━━━━━━━━━━━━━━━━━━━━━━━━━━━━━━\u001b[0m \u001b[32m2.0/2.0 MB\u001b[0m \u001b[31m68.8 MB/s\u001b[0m eta \u001b[36m0:00:00\u001b[0m\n",
            "\u001b[2K   \u001b[90m━━━━━━━━━━━━━━━━━━━━━━━━━━━━━━━━━━━━━━━━\u001b[0m \u001b[32m101.6/101.6 kB\u001b[0m \u001b[31m6.5 MB/s\u001b[0m eta \u001b[36m0:00:00\u001b[0m\n",
            "\u001b[2K   \u001b[90m━━━━━━━━━━━━━━━━━━━━━━━━━━━━━━━━━━━━━━━━\u001b[0m \u001b[32m16.0/16.0 MB\u001b[0m \u001b[31m53.8 MB/s\u001b[0m eta \u001b[36m0:00:00\u001b[0m\n",
            "\u001b[2K   \u001b[90m━━━━━━━━━━━━━━━━━━━━━━━━━━━━━━━━━━━━━━━━\u001b[0m \u001b[32m55.9/55.9 kB\u001b[0m \u001b[31m3.4 MB/s\u001b[0m eta \u001b[36m0:00:00\u001b[0m\n",
            "\u001b[2K   \u001b[90m━━━━━━━━━━━━━━━━━━━━━━━━━━━━━━━━━━━━━━━━\u001b[0m \u001b[32m85.0/85.0 kB\u001b[0m \u001b[31m5.3 MB/s\u001b[0m eta \u001b[36m0:00:00\u001b[0m\n",
            "\u001b[2K   \u001b[90m━━━━━━━━━━━━━━━━━━━━━━━━━━━━━━━━━━━━━━━━\u001b[0m \u001b[32m62.3/62.3 kB\u001b[0m \u001b[31m3.9 MB/s\u001b[0m eta \u001b[36m0:00:00\u001b[0m\n",
            "\u001b[2K   \u001b[90m━━━━━━━━━━━━━━━━━━━━━━━━━━━━━━━━━━━━━━━━\u001b[0m \u001b[32m459.8/459.8 kB\u001b[0m \u001b[31m22.4 MB/s\u001b[0m eta \u001b[36m0:00:00\u001b[0m\n",
            "\u001b[2K   \u001b[90m━━━━━━━━━━━━━━━━━━━━━━━━━━━━━━━━━━━━━━━━\u001b[0m \u001b[32m72.0/72.0 kB\u001b[0m \u001b[31m4.7 MB/s\u001b[0m eta \u001b[36m0:00:00\u001b[0m\n",
            "\u001b[2K   \u001b[90m━━━━━━━━━━━━━━━━━━━━━━━━━━━━━━━━━━━━━━━━\u001b[0m \u001b[32m4.0/4.0 MB\u001b[0m \u001b[31m65.8 MB/s\u001b[0m eta \u001b[36m0:00:00\u001b[0m\n",
            "\u001b[2K   \u001b[90m━━━━━━━━━━━━━━━━━━━━━━━━━━━━━━━━━━━━━━━━\u001b[0m \u001b[32m452.6/452.6 kB\u001b[0m \u001b[31m22.8 MB/s\u001b[0m eta \u001b[36m0:00:00\u001b[0m\n",
            "\u001b[2K   \u001b[90m━━━━━━━━━━━━━━━━━━━━━━━━━━━━━━━━━━━━━━━━\u001b[0m \u001b[32m46.0/46.0 kB\u001b[0m \u001b[31m2.8 MB/s\u001b[0m eta \u001b[36m0:00:00\u001b[0m\n",
            "\u001b[2K   \u001b[90m━━━━━━━━━━━━━━━━━━━━━━━━━━━━━━━━━━━━━━━━\u001b[0m \u001b[32m86.8/86.8 kB\u001b[0m \u001b[31m5.8 MB/s\u001b[0m eta \u001b[36m0:00:00\u001b[0m\n",
            "\u001b[?25h  Building wheel for pypika (pyproject.toml) ... \u001b[?25l\u001b[?25hdone\n"
          ]
        }
      ]
    },
    {
      "cell_type": "markdown",
      "source": [
        "## Data Preparation"
      ],
      "metadata": {
        "id": "FKE0hfNJiFfN"
      }
    },
    {
      "cell_type": "markdown",
      "source": [
        "### Function to extract text form pdf"
      ],
      "metadata": {
        "id": "WmhqHoYziH4y"
      }
    },
    {
      "cell_type": "code",
      "source": [
        "import fitz"
      ],
      "metadata": {
        "id": "jqRoAgphZ1hq"
      },
      "execution_count": 4,
      "outputs": []
    },
    {
      "cell_type": "code",
      "source": [
        "# Extracts and returns all text from a PDF file using PyMuPDF (fitz)\n",
        "def extract_text_from_pdf(pdf_path):\n",
        "    doc = fitz.open(pdf_path)\n",
        "    text = \"\"\n",
        "    for page in doc:\n",
        "        text += page.get_text()\n",
        "    return text"
      ],
      "metadata": {
        "id": "SaYsURu0Z4zE"
      },
      "execution_count": 16,
      "outputs": []
    },
    {
      "cell_type": "code",
      "source": [
        "document_text = extract_text_from_pdf(\"/content/medicine.pdf\")"
      ],
      "metadata": {
        "id": "4SM3VsIqatxq"
      },
      "execution_count": 18,
      "outputs": []
    },
    {
      "cell_type": "markdown",
      "source": [
        "### Cleaning the text"
      ],
      "metadata": {
        "id": "4eo_pmOZiM2a"
      }
    },
    {
      "cell_type": "code",
      "source": [
        "import re\n",
        "\n",
        "# Cleans extracted text by normalizing whitespace, fixing line breaks, and removing non-ASCII characters\n",
        "def clean_text(text):\n",
        "    text = re.sub(r'\\s+', ' ', text)  # collapse whitespace\n",
        "    text = re.sub(r'\\n+', '\\n', text)  # fix line breaks\n",
        "    text = re.sub(r'[^ -~\\n]', '', text)  # remove non-ascii\n",
        "    return text.strip()"
      ],
      "metadata": {
        "id": "IVS1AMNxacPH"
      },
      "execution_count": 7,
      "outputs": []
    },
    {
      "cell_type": "code",
      "source": [
        "clean_document_text = clean_text(document_text)"
      ],
      "metadata": {
        "id": "fq7_19POatB_"
      },
      "execution_count": 19,
      "outputs": []
    },
    {
      "cell_type": "markdown",
      "source": [
        "### Creating the chunk of the data"
      ],
      "metadata": {
        "id": "2HLltwPXiQmd"
      }
    },
    {
      "cell_type": "code",
      "source": [
        "# Splits the input text into chunks of specified size with overlapping words between chunks\n",
        "def chunk_text(text, chunk_size=500, overlap=100):\n",
        "    words = text.split()\n",
        "    chunks = []\n",
        "    for i in range(0, len(words), chunk_size - overlap):\n",
        "        chunk = \" \".join(words[i:i + chunk_size])\n",
        "        chunks.append(chunk)\n",
        "    return chunks"
      ],
      "metadata": {
        "id": "-Sw3sVduaf6y"
      },
      "execution_count": 8,
      "outputs": []
    },
    {
      "cell_type": "code",
      "source": [
        "chunk_clean_document_text = chunk_text(clean_document_text)"
      ],
      "metadata": {
        "id": "Ht5uY4ddahZJ"
      },
      "execution_count": 20,
      "outputs": []
    },
    {
      "cell_type": "code",
      "source": [
        "print(chunk_clean_document_text[2])"
      ],
      "metadata": {
        "colab": {
          "base_uri": "https://localhost:8080/"
        },
        "id": "gsZCa26_cQvq",
        "outputId": "a05fdadf-ff41-4d9c-916f-00d01bce8bf8"
      },
      "execution_count": 48,
      "outputs": [
        {
          "output_type": "stream",
          "name": "stdout",
          "text": [
            "wholesome diagnosis and how therapy is geared to this knowledge. Diagnosis for the Doctor Prognosis for the Relatives Relief for the Patient 3 The complete diagnosis including all four parts mentioned earlier can be deciphered by asking a set series of questions after having elicited the history and physical signs. (Note: Pathophysiology is based on our understanding of how a disease aects a particular organ to produce dysfunction. It depends on our PREVIOUS knowledge and studies of Physiology and Pathology of similar patients. Some tests can help us in proving the pathophysiology operating in a particular case.) A. HISTORY A carefully elicited history should be able to answer the following FIVE questionsA1, A2, A3, A4 and A5 A.1 Which ORGAN SYSTEM is involved? This is based on the conglomeration of symptoms--cardinal symptoms of a particular system. Is there any particular SITE involved? This is suggested by some pathognomic symptoms and other details. e.g. -- Lateral chest pain associated with dry cough, and the pain increasing on coughing and deep breathing suggests pleural pain. A.2 What PATHOPHYSIOLOGY accounts for some of the consequential symptoms? These symptoms explain the changes occurring after the disease progresses. E.g. A patient of known heart disease when develops pedal edema, one can suspect that congestive heart failure has occurred. A.3 CAUSE OF DISEASE What is the possible/probable Nature (Etiology) of the disease? This is based on -- ONSET -- sudden / acute / sub-acute/ insidious COURSE -- Progressive (slow/rapid) -- Regressive -- Stationary -- Episodic THE COMMON PLAN AN OUTLINE ANALYSIS OF PATIENT'S HISTORY / PHYSICAL EXAMINATION 4 DURATION -- hours, days, weeks, months, years TREATMENT taken and its response NOTE: The natural history of any disease falls into one of the four patterns which have to be recognized and each of these patterns has one or more etiologies each (rarely more). Pattern ONE: The diseases in this have a SUDDEN ONSET (all symptoms occurring within a few hours) and this pattern has only two causes: - Trauma and Vascular disease. Pattern TWO: These are diseases of ACUTE ONSET (all primary symptoms occurring within one or two days) and having a PROGRESSIVE COURSE. They are often self limiting or show a good response to treatment. This pattern is seen in: - Acute Infections Pattern THREE: This pattern is characterized by a SUB-ACUTE ONSET. All primary symptoms develop within a week or so and have a PROGRESSIVE COURSE with duration of usually less than six months at diagnosis. This pattern is seen in: - Chronic Infections and Malignancies Pattern FOUR: These diseases have an INSIDIOUS ONSET (All primary symptoms occur over a time period of more than two/three weeks) and a LONG DURATION (often more than six months). This is found in: - Chronic diseases often Hereditary/ Genetic/ Metabolic/ Degenerative in Nature A subtype of this pattern is one with an EPISODIC COURSE and then the etiology is an Electrical dysrhythmia (in the Heart or Brain) as in Epilepsy, Cardiac arrhythmias, Autoimmune as a recurrent autoimmune phenomenon\n"
          ]
        }
      ]
    },
    {
      "cell_type": "markdown",
      "source": [
        "## Using Gemini Model through its API"
      ],
      "metadata": {
        "id": "MrzznFaZifrH"
      }
    },
    {
      "cell_type": "markdown",
      "source": [
        "### Setting the Model for embedding generation"
      ],
      "metadata": {
        "id": "Or1ajvrIjl8x"
      }
    },
    {
      "cell_type": "code",
      "source": [
        "from google import genai\n",
        "from google.genai import types\n",
        "\n",
        "from IPython.display import Markdown\n",
        "\n",
        "genai.__version__"
      ],
      "metadata": {
        "colab": {
          "base_uri": "https://localhost:8080/",
          "height": 35
        },
        "id": "8QymWA77ctGW",
        "outputId": "b2caf4e1-ccf2-4f7d-e9af-f43031da5661"
      },
      "execution_count": 23,
      "outputs": [
        {
          "output_type": "execute_result",
          "data": {
            "text/plain": [
              "'1.7.0'"
            ],
            "application/vnd.google.colaboratory.intrinsic+json": {
              "type": "string"
            }
          },
          "metadata": {},
          "execution_count": 23
        }
      ]
    },
    {
      "cell_type": "code",
      "source": [
        "from google.colab import userdata\n",
        "GOOGLE_API_KEY=userdata.get('GEMINI_API_KEY')"
      ],
      "metadata": {
        "id": "c7mjUUBec_si"
      },
      "execution_count": 24,
      "outputs": []
    },
    {
      "cell_type": "code",
      "source": [
        "client = genai.Client(api_key=GOOGLE_API_KEY)\n",
        "\n",
        "for m in client.models.list():\n",
        "  if \"embedContent\" in m.supported_actions:\n",
        "    print(m.name)"
      ],
      "metadata": {
        "colab": {
          "base_uri": "https://localhost:8080/"
        },
        "id": "AhEiTJZOdObz",
        "outputId": "4ba30b94-f32e-41a0-8203-abf658277e35"
      },
      "execution_count": 26,
      "outputs": [
        {
          "output_type": "stream",
          "name": "stdout",
          "text": [
            "models/embedding-001\n",
            "models/text-embedding-004\n",
            "models/gemini-embedding-exp-03-07\n",
            "models/gemini-embedding-exp\n"
          ]
        }
      ]
    },
    {
      "cell_type": "code",
      "source": [
        "from chromadb import Documents, EmbeddingFunction, Embeddings\n",
        "from google.api_core import retry\n",
        "\n",
        "from google.genai import types"
      ],
      "metadata": {
        "id": "-AJpkIDudm7l"
      },
      "execution_count": 29,
      "outputs": []
    },
    {
      "cell_type": "code",
      "source": [
        "# helper function to retry in case of failure\n",
        "is_retriable = lambda e : (isinstance(e,genai.errors.APIError) and e.code in {429,503})"
      ],
      "metadata": {
        "id": "E4ynQkhadtTF"
      },
      "execution_count": 31,
      "outputs": []
    },
    {
      "cell_type": "markdown",
      "source": [
        "### Embedding Class for creating and querying embeddings for the text data"
      ],
      "metadata": {
        "id": "ZTjCGHeHirts"
      }
    },
    {
      "cell_type": "code",
      "source": [
        "# Custom EmbeddingFunction class to generate embeddings for documents or queries using the Gemini model\n",
        "class GeminiEmbeddingFunction(EmbeddingFunction):\n",
        "    document_mode = True\n",
        "\n",
        "    @retry.Retry(predicate=is_retriable)\n",
        "    def __call__(self, input:Documents)->Embeddings:\n",
        "       # Set the embedding task type based on the mode (document or query)\n",
        "        if self.document_mode:\n",
        "            embedding_task=\"retrieval_document\"\n",
        "        else:\n",
        "            embedding_task=\"retrieval_query\"\n",
        "\n",
        "        # Call the Gemini model's embed_content method to get embeddings\n",
        "        response = client.models.embed_content(\n",
        "            model=\"models/text-embedding-004\",\n",
        "            contents=input,\n",
        "            config=types.EmbedContentConfig(\n",
        "                task_type=embedding_task,\n",
        "            ),\n",
        "        )\n",
        "\n",
        "        return [e.values for e in response.embeddings]"
      ],
      "metadata": {
        "id": "bysnl6lJe40Y"
      },
      "execution_count": 32,
      "outputs": []
    },
    {
      "cell_type": "markdown",
      "source": [
        "## Initializing, creating and Storing the embeddings using ChromaDB"
      ],
      "metadata": {
        "id": "WG9uz--iizE2"
      }
    },
    {
      "cell_type": "code",
      "source": [
        "import chromadb\n",
        "\n",
        "DB_NAME = \"medicaldb\"\n",
        "\n",
        "embed_fn = GeminiEmbeddingFunction()  # Initialize the custom embedding function (Gemini)\n",
        "embed_fn.document_mode = True  # Set the embedding function to work in document mode\n",
        "\n",
        "# Create a client to interact with the Chroma database\n",
        "chroma_client = chromadb.Client()\n",
        "db = chroma_client.get_or_create_collection(name=DB_NAME,embedding_function=embed_fn)\n",
        "\n",
        "# Add the cleaned and chunked document text into the collection, assigning unique IDs\n",
        "db.add(documents=chunk_clean_document_text, ids=[str(i) for i in range(len(chunk_clean_document_text))])"
      ],
      "metadata": {
        "id": "Nk8PDPhTe-LP"
      },
      "execution_count": 34,
      "outputs": []
    },
    {
      "cell_type": "code",
      "source": [
        "db.count()"
      ],
      "metadata": {
        "colab": {
          "base_uri": "https://localhost:8080/"
        },
        "id": "TJSKGfa-fB2K",
        "outputId": "8bb6d275-baf2-4d18-be47-82b14b15e11c"
      },
      "execution_count": 35,
      "outputs": [
        {
          "output_type": "execute_result",
          "data": {
            "text/plain": [
              "25"
            ]
          },
          "metadata": {},
          "execution_count": 35
        }
      ]
    },
    {
      "cell_type": "markdown",
      "source": [
        "## RAG"
      ],
      "metadata": {
        "id": "UgVqINJxkDHq"
      }
    },
    {
      "cell_type": "markdown",
      "source": [
        "### Querying the database - Retriveal"
      ],
      "metadata": {
        "id": "q7OpBm13i6ye"
      }
    },
    {
      "cell_type": "code",
      "source": [
        "# Set the embedding function to work in query mode (not document mode)\n",
        "embed_fn.document_mode = False\n",
        "\n",
        "# Define the query for the medical chatbot or search system\n",
        "query = \"What are the respiratory disease symptoms?\"\n",
        "\n",
        "# Perform a query in the Chroma database and retrieve the most relevant document\n",
        "result = db.query(query_texts=[query], n_results=1) # n_results can be any number depends on how many result you want for the given query\n",
        "\n",
        "# Extract the documents from the query result\n",
        "[all_passages] = result[\"documents\"]\n",
        "\n",
        "Markdown(all_passages[0])"
      ],
      "metadata": {
        "colab": {
          "base_uri": "https://localhost:8080/",
          "height": 411
        },
        "id": "JBt6wLAWfKA-",
        "outputId": "9a9292e8-0140-466b-fa2e-b3ae5c1535c8"
      },
      "execution_count": 36,
      "outputs": [
        {
          "output_type": "execute_result",
          "data": {
            "text/plain": [
              "<IPython.core.display.Markdown object>"
            ],
            "text/markdown": "cardiac or psychological. Respiratory mechanisms can be:- ~ Inspiratory obstruction ~ Bronchospasm ~ Consolidation ~ Emphysema ~ Pleural eusion ~ Pneumothorax The site of disease in respiratory system can often be told by associated symptoms/signs. Dyspnoea with inspiratory stridor occurs in Foreign body Wheeze is audible in Bronchitis and Asthma Nocturnal increase in dyspnoea is Cardiac (due to alveolar congestion) Shallow breathing is seen in Neuromuscular paralysis 3. LATERAL CHEST PAIN This is the hallmark of pleural disease. It has to be dierentiated from musculoskeletal pain by the absence of other respiratory symptoms in the latter. Diaphragmatic pleurisy may be referred to the tip of shoulder and maybe associated with an increase during deep breathing and coughing. Tracheitis may also be painful but the pain is in the front of neck and retrosternal. 4. HEMOPTYSIS This symptom gives a lot of information about the site of involvement and sometimes helps in the etiological diagnosis as the causes of hemoptysis at each subsite of the respiratory system are few and many diseases have their distinctive characteristics. ~ Upper Respiratory Tract often gives a Streaky hemoptysis ~ Alveolar origin of hemoptysis is often Frothy and is a hallmark of pulmonary edema 18 ~ Frank blood can be seen in tuberculosis, mitral stenosis and bronchial adenoma ~ Mucopurulent hemoptysis is seen in bronchiectasis and lung abscess ~ Rusty hemoptysis is seen in early pneumonia ~ Sudden onset suggests pulmonary embolism and infarction ~ Recurrent hemoptysis occurs in hemosiderosis, Goodpasture's syndrome and bronchial adenoma ~ Continuous bleeding can be seen in malignancy A.2 Are there any symptoms suggestive of pathophysiological eects of the disease? Tremulousness, drowsiness and coma in Respiratory Failure Pitting edema, right upper abdominal discomfort in CHF Palpitations in arrhythmias A.3 Cause of Respiratory Diseases The common causes are: - Acute infections - Chronic infections - Malignancy - Degenerative diseases (like Emphysema) - Immunological diseases, common being asthma Less common ones being - Trauma - Congenital - Occupational and dust diseases- - Vascular diseases (pulmonary embolism) 19 As in all systems dierentiation between these possibilities lies in analyzing the mode of onset, course, duration and response to treatment, if any. The table below highlights these for the common ones: DISEASE ONSET COURSE DURATION TREATMENT RESPONSE ASTHMA Acute / Chronic Episodic Years Good for acute attack ACUTE INFECTION Acute Progressive then Regressive Days/ Weeks Good CHRONIC INFECTION Sub-Acute Slowly progressive Months/ Years Fair MALIGNANCY Sub-Acute Rapidly Progressive Months Bad DEGENERATI - VE Insidious Very Slowly Progressive Years Poor in long term A.4 BACKGROUND HISTORY ~ Acute infections Present in others in family Endemic/epidemic in community ~ Tuberculosis Family history + debilitating disease Overcrowding Undernutrition ~ Malignancy Personal history of smoking Occupational history of exposure to asbestos or Polyvinyl chloride ~ Degenerative Family history of similar illness ~ Bronchial asthma Past history of atopy, eczema, rhinitis Family history of atopy, eczema, rhinitis, allergic pharyngitis, hay fever A.5 What is the disturbance of function? Once again this is considered in context of a patient's daily"
          },
          "metadata": {},
          "execution_count": 36
        }
      ]
    },
    {
      "cell_type": "markdown",
      "source": [
        "### Creating the Prompt"
      ],
      "metadata": {
        "id": "zpY_zNnvi-Jp"
      }
    },
    {
      "cell_type": "code",
      "source": [
        "# Formats the query and passages into a structured prompt for a chatbot to generate a response in a conversational tone\n",
        "query_oneline = query.replace(\"\\n\",\" \")\n",
        "\n",
        "prompt = f\"\"\"You are a helpful and informative bot that answers questions using text from the reference passage included below.\n",
        "Be sure to respond in a complete sentence, being comprehensive, including all relevant background information.\n",
        "However, you are talking to a non-technical audience, so be sure to break down complicated concepts and\n",
        "strike a friendly and converstional tone. If the passage is irrelevant to the answer, you may ignore it.\n",
        "\n",
        "QUESTION: {query_oneline}\n",
        "\"\"\"\n",
        "\n",
        "for passage in all_passages:\n",
        "    passage_online = passage.replace(\"\\n\",\" \")\n",
        "    prompt += f\"PASSAGE: {passage_online}\\n\"\n",
        "\n",
        "print(prompt)"
      ],
      "metadata": {
        "colab": {
          "base_uri": "https://localhost:8080/"
        },
        "id": "n99rK7enf2Wg",
        "outputId": "4a106acb-8db1-4e47-f92e-23599dbf5cae"
      },
      "execution_count": 37,
      "outputs": [
        {
          "output_type": "stream",
          "name": "stdout",
          "text": [
            "You are a helpful and informative bot that answers questions using text from the reference passage included below. \n",
            "Be sure to respond in a complete sentence, being comprehensive, including all relevant background information. \n",
            "However, you are talking to a non-technical audience, so be sure to break down complicated concepts and \n",
            "strike a friendly and converstional tone. If the passage is irrelevant to the answer, you may ignore it.\n",
            "\n",
            "QUESTION: What are the respiratory disease symptons?\n",
            "PASSAGE: cardiac or psychological. Respiratory mechanisms can be:- ~ Inspiratory obstruction ~ Bronchospasm ~ Consolidation ~ Emphysema ~ Pleural eusion ~ Pneumothorax The site of disease in respiratory system can often be told by associated symptoms/signs. Dyspnoea with inspiratory stridor occurs in Foreign body Wheeze is audible in Bronchitis and Asthma Nocturnal increase in dyspnoea is Cardiac (due to alveolar congestion) Shallow breathing is seen in Neuromuscular paralysis 3. LATERAL CHEST PAIN This is the hallmark of pleural disease. It has to be dierentiated from musculoskeletal pain by the absence of other respiratory symptoms in the latter. Diaphragmatic pleurisy may be referred to the tip of shoulder and maybe associated with an increase during deep breathing and coughing. Tracheitis may also be painful but the pain is in the front of neck and retrosternal. 4. HEMOPTYSIS This symptom gives a lot of information about the site of involvement and sometimes helps in the etiological diagnosis as the causes of hemoptysis at each subsite of the respiratory system are few and many diseases have their distinctive characteristics. ~ Upper Respiratory Tract often gives a Streaky hemoptysis ~ Alveolar origin of hemoptysis is often Frothy and is a hallmark of pulmonary edema 18 ~ Frank blood can be seen in tuberculosis, mitral stenosis and bronchial adenoma ~ Mucopurulent hemoptysis is seen in bronchiectasis and lung abscess ~ Rusty hemoptysis is seen in early pneumonia ~ Sudden onset suggests pulmonary embolism and infarction ~ Recurrent hemoptysis occurs in hemosiderosis, Goodpasture's syndrome and bronchial adenoma ~ Continuous bleeding can be seen in malignancy A.2 Are there any symptoms suggestive of pathophysiological eects of the disease? Tremulousness, drowsiness and coma in Respiratory Failure Pitting edema, right upper abdominal discomfort in CHF Palpitations in arrhythmias A.3 Cause of Respiratory Diseases The common causes are: - Acute infections - Chronic infections - Malignancy - Degenerative diseases (like Emphysema) - Immunological diseases, common being asthma Less common ones being - Trauma - Congenital - Occupational and dust diseases- - Vascular diseases (pulmonary embolism) 19 As in all systems dierentiation between these possibilities lies in analyzing the mode of onset, course, duration and response to treatment, if any. The table below highlights these for the common ones: DISEASE ONSET COURSE DURATION TREATMENT RESPONSE ASTHMA Acute / Chronic Episodic Years Good for acute attack ACUTE INFECTION Acute Progressive then Regressive Days/ Weeks Good CHRONIC INFECTION Sub-Acute Slowly progressive Months/ Years Fair MALIGNANCY Sub-Acute Rapidly Progressive Months Bad DEGENERATI - VE Insidious Very Slowly Progressive Years Poor in long term A.4 BACKGROUND HISTORY ~ Acute infections Present in others in family Endemic/epidemic in community ~ Tuberculosis Family history + debilitating disease Overcrowding Undernutrition ~ Malignancy Personal history of smoking Occupational history of exposure to asbestos or Polyvinyl chloride ~ Degenerative Family history of similar illness ~ Bronchial asthma Past history of atopy, eczema, rhinitis Family history of atopy, eczema, rhinitis, allergic pharyngitis, hay fever A.5 What is the disturbance of function? Once again this is considered in context of a patient's daily\n",
            "\n"
          ]
        }
      ]
    },
    {
      "cell_type": "markdown",
      "source": [
        "### Sending the Query data to the Model for a proper understandable output. - Augmented Generation"
      ],
      "metadata": {
        "id": "5AGyynm1jCCr"
      }
    },
    {
      "cell_type": "code",
      "source": [
        "# Generates content using the gemini model based on the given prompt and displays the result\n",
        "answer = client.models.generate_content(\n",
        "    model=\"gemini-2.0-flash\",\n",
        "    contents=prompt\n",
        ")\n",
        "\n",
        "Markdown(answer.text)"
      ],
      "metadata": {
        "colab": {
          "base_uri": "https://localhost:8080/",
          "height": 343
        },
        "id": "kbI_JHTof7OB",
        "outputId": "50df8de1-a856-45c3-8c9b-11ca22f7dc5e"
      },
      "execution_count": 38,
      "outputs": [
        {
          "output_type": "execute_result",
          "data": {
            "text/plain": [
              "<IPython.core.display.Markdown object>"
            ],
            "text/markdown": "Okay, I can help you understand the symptoms associated with respiratory diseases.\n\nRespiratory diseases can manifest in several ways, and the specific symptoms or signs can often point to the location of the issue within your respiratory system.\n\n*   **Dyspnea** is basically when you experience shortness of breath. When dyspnea is coupled with an inspiratory stridor (a harsh, vibrating sound when you breathe in), it can indicate the presence of a foreign body.\n*   **Wheezing**, that whistling or squeaky sound in your chest, is commonly heard in conditions like bronchitis and asthma, which affect your airways.\n*   **Nocturnal Dyspnea** If you find yourself increasingly short of breath at night, it could be related to a cardiac issue, where fluid builds up in the lungs (alveolar congestion).\n*   **Shallow breathing** may indicate neuromuscular paralysis.\n*    **Lateral chest pain** can be a sign of pleural disease.\n\nIn addition to these, the nature of **hemoptysis** (coughing up blood) can provide valuable information:\n\n*   **Streaky hemoptysis** often comes from the upper respiratory tract.\n*   **Frothy hemoptysis** suggests the issue originates in the alveoli.\n*   **Mucopurulent hemoptysis** is often associated with bronchiectasis and lung abscess.\n*   **Rusty hemoptysis** is a symptom of early pneumonia.\n\nOther general symptoms related to respiratory disease include tremulousness, drowsiness, and even a coma in severe cases of respiratory failure.\n\nI hope this information helps you better understand respiratory disease symptoms.\n"
          },
          "metadata": {},
          "execution_count": 38
        }
      ]
    },
    {
      "cell_type": "markdown",
      "source": [
        "### Trying for a different query."
      ],
      "metadata": {
        "id": "ZvV4QYW8jPjb"
      }
    },
    {
      "cell_type": "code",
      "source": [
        "embed_fn.document_mode = False\n",
        "\n",
        "query = \"How cardiology based disease are studied?\"\n",
        "\n",
        "result = db.query(query_texts=[query],n_results=1)\n",
        "[all_passages]=result[\"documents\"]\n",
        "\n",
        "Markdown(all_passages[0])"
      ],
      "metadata": {
        "colab": {
          "base_uri": "https://localhost:8080/",
          "height": 411
        },
        "id": "W7uO7OQEf-df",
        "outputId": "aafa972f-c89f-468d-aede-af9fe2eae84b"
      },
      "execution_count": 44,
      "outputs": [
        {
          "output_type": "execute_result",
          "data": {
            "text/plain": [
              "<IPython.core.display.Markdown object>"
            ],
            "text/markdown": "of dysfunction? Are there any speciEic pathophysiologic syndromes of the involved system (e.g., Respiratory failure in chronic bronchitis, or Congestive Cardiac Failure in mitral stenosis) present? C. SYSTEMIC EXAMINATION Of systems other than the one primarily aected. This should tell us: C.1 Has the same disease aected other systems earlier and then caused the present problem? E.g. In Congenital heart disease, there may be other congenital anomalies, or Pulmonary tuberculosis may precede the involvement of kidneys by the mycobacteria. C.2 Whether other systems are aected by the disease, such as, Polycythemia in Chronic Lung Diseases, or Thrombo-embolic episode in Mitral Stenosis with atrial Eibrillation, or Gastric hemorrhage in cerebro-vascular stroke. D. SYSTEMIC EXAMINATION OF THE AFFECTED SYSTEM This should provide the answer to the following two questions, D1 and D2. D.1 Which site and sub-site is/are involved? Each system has dierent sites and sub-sites which can be involved in any disease process and these will be enumerated with each system. D.2 Can the site, sub-site involved or the permutations and combinations of the aforementioned tell us the possible disease responsible? E.g, Anterior horn cell is only aected by Polio and Motor Neurone Disease whereas pure motor spastic paraplegia has only a few well known causes. E. INVESTIGATIONS These should be able to answer the following queries. E1, E2, E3 and E4. E.1 What SITE/SUB-SITE is aected? E.2 What is the CAUSE (NATURE) of this process? E.3 Presence and measurement of any PATHOPHYSIOLOGICAL SYNDROMES such as measuring CVP in a doubtful CHF, Pulmonary Wedge pressure in left heart disease. 7 E.4 What is the FUNCTIONAL DISABILITY produced? Can we quantify this disability and decipher its pattern? E.g. Spirometry in COPD NOTE: The investigations should be mainly directed towards delineation of Site, Nature, measurement of pathophysiological alteration and quantiEication of dysfunction. Some of these 4 points may become clear from a thorough clinical examination and only need conEirmation by investigations, whereas the rest may need to be investigated as they could not be determined by Clinical Analysis. This could determine the selection of tests to be done. 8 The common anatomical site/s where diseases occur are listed in a box and so are the common etiologies of disease and the pathophysiological syndromes encountered. CARDIOLOGY SITE OF DISEASE 1. Pericardium 2. Myocardium 3. Endocardium: Valvular 4. Pancardium: Rheumatic Fever, Trauma 5. Vascular: Artery : Vein : Lymphatic 6. Electrical Pathways SYNDROMES OF DYSFUNCTION When the heart is not working properly it can result in the following pathophysiological syndromes: 1. Congestive Heart Failure 2. Cardiac Asthma 3. Low output Syndrome or Shock 4. Arrhythmia 5. Bacterial Endocarditis supervening on diseased Valves/ Shunt/ Artificial valves ETIOLOGY OF CARDIAC DISEASE (Note must be made of the common ones linked to a sub-site listed in the first box) COMMON 1. Congenital 2. Rheumatic 3. Hypertensive 4. Infectious : Pericardial ~ Tuberculosis, Viral : Myocardial ~ Virus, Rickettsia : Endocardial ~ Subacute bacterial endocarditis 5. Atherosclerotic UNCOMMON 1. Collagen 2. Endocrinal 3. Immune Disease 4. Others 9 CARDIOLOGY"
          },
          "metadata": {},
          "execution_count": 44
        }
      ]
    },
    {
      "cell_type": "code",
      "source": [
        "query_oneline = query.replace(\"\\n\",\" \")\n",
        "\n",
        "prompt = f\"\"\"You are a helpful and informative bot that answers questions using text from the reference passage included below.\n",
        "Be sure to respond in a complete sentence, being comprehensive, including all relevant background information.\n",
        "However, you are talking to a non-technical audience, so be sure to break down complicated concepts and\n",
        "strike a friendly and converstional tone. If the passage is irrelevant to the answer, you may ignore it.\n",
        "\n",
        "QUESTION: {query_oneline}\n",
        "\"\"\"\n",
        "\n",
        "for passage in all_passages:\n",
        "    passage_online = passage.replace(\"\\n\",\" \")\n",
        "    prompt += f\"PASSAGE: {passage_online}\\n\"\n",
        "\n",
        "print(prompt)"
      ],
      "metadata": {
        "colab": {
          "base_uri": "https://localhost:8080/"
        },
        "id": "qp1xEsAKg-L5",
        "outputId": "0a466b67-58dc-44ef-c8f1-b70b648c0e63"
      },
      "execution_count": 45,
      "outputs": [
        {
          "output_type": "stream",
          "name": "stdout",
          "text": [
            "You are a helpful and informative bot that answers questions using text from the reference passage included below. \n",
            "Be sure to respond in a complete sentence, being comprehensive, including all relevant background information. \n",
            "However, you are talking to a non-technical audience, so be sure to break down complicated concepts and \n",
            "strike a friendly and converstional tone. If the passage is irrelevant to the answer, you may ignore it.\n",
            "\n",
            "QUESTION: How cardiology based disease are studied?\n",
            "PASSAGE: of dysfunction? Are there any speciEic pathophysiologic syndromes of the involved system (e.g., Respiratory failure in chronic bronchitis, or Congestive Cardiac Failure in mitral stenosis) present? C. SYSTEMIC EXAMINATION Of systems other than the one primarily aected. This should tell us: C.1 Has the same disease aected other systems earlier and then caused the present problem? E.g. In Congenital heart disease, there may be other congenital anomalies, or Pulmonary tuberculosis may precede the involvement of kidneys by the mycobacteria. C.2 Whether other systems are aected by the disease, such as, Polycythemia in Chronic Lung Diseases, or Thrombo-embolic episode in Mitral Stenosis with atrial Eibrillation, or Gastric hemorrhage in cerebro-vascular stroke. D. SYSTEMIC EXAMINATION OF THE AFFECTED SYSTEM This should provide the answer to the following two questions, D1 and D2. D.1 Which site and sub-site is/are involved? Each system has dierent sites and sub-sites which can be involved in any disease process and these will be enumerated with each system. D.2 Can the site, sub-site involved or the permutations and combinations of the aforementioned tell us the possible disease responsible? E.g, Anterior horn cell is only aected by Polio and Motor Neurone Disease whereas pure motor spastic paraplegia has only a few well known causes. E. INVESTIGATIONS These should be able to answer the following queries. E1, E2, E3 and E4. E.1 What SITE/SUB-SITE is aected? E.2 What is the CAUSE (NATURE) of this process? E.3 Presence and measurement of any PATHOPHYSIOLOGICAL SYNDROMES such as measuring CVP in a doubtful CHF, Pulmonary Wedge pressure in left heart disease. 7 E.4 What is the FUNCTIONAL DISABILITY produced? Can we quantify this disability and decipher its pattern? E.g. Spirometry in COPD NOTE: The investigations should be mainly directed towards delineation of Site, Nature, measurement of pathophysiological alteration and quantiEication of dysfunction. Some of these 4 points may become clear from a thorough clinical examination and only need conEirmation by investigations, whereas the rest may need to be investigated as they could not be determined by Clinical Analysis. This could determine the selection of tests to be done. 8 The common anatomical site/s where diseases occur are listed in a box and so are the common etiologies of disease and the pathophysiological syndromes encountered. CARDIOLOGY SITE OF DISEASE 1. Pericardium 2. Myocardium 3. Endocardium: Valvular 4. Pancardium: Rheumatic Fever, Trauma 5. Vascular: Artery : Vein : Lymphatic 6. Electrical Pathways SYNDROMES OF DYSFUNCTION When the heart is not working properly it can result in the following pathophysiological syndromes: 1. Congestive Heart Failure 2. Cardiac Asthma 3. Low output Syndrome or Shock 4. Arrhythmia 5. Bacterial Endocarditis supervening on diseased Valves/ Shunt/ Artificial valves ETIOLOGY OF CARDIAC DISEASE (Note must be made of the common ones linked to a sub-site listed in the first box) COMMON 1. Congenital 2. Rheumatic 3. Hypertensive 4. Infectious : Pericardial ~ Tuberculosis, Viral : Myocardial ~ Virus, Rickettsia : Endocardial ~ Subacute bacterial endocarditis 5. Atherosclerotic UNCOMMON 1. Collagen 2. Endocrinal 3. Immune Disease 4. Others 9 CARDIOLOGY\n",
            "\n"
          ]
        }
      ]
    },
    {
      "cell_type": "code",
      "source": [
        "answer = client.models.generate_content(\n",
        "    model=\"gemini-2.0-flash\",\n",
        "    contents=prompt\n",
        ")\n",
        "\n",
        "Markdown(answer.text)"
      ],
      "metadata": {
        "colab": {
          "base_uri": "https://localhost:8080/",
          "height": 98
        },
        "id": "CBiVHyCPhAna",
        "outputId": "1f92dcfe-0f6d-4bbf-f0da-cd186ac55774"
      },
      "execution_count": 47,
      "outputs": [
        {
          "output_type": "execute_result",
          "data": {
            "text/plain": [
              "<IPython.core.display.Markdown object>"
            ],
            "text/markdown": "To study cardiology-based diseases, it is important to consider the site of the disease, like the pericardium, myocardium, endocardium, pancardium, vasculature, or electrical pathways. Additionally, understanding the syndromes of dysfunction, such as congestive heart failure, cardiac asthma, low output syndrome or shock, arrhythmia, or bacterial endocarditis, can provide insights. Also, the etiology, whether congenital, rheumatic, hypertensive, infectious, or atherosclerotic, needs to be considered.\n"
          },
          "metadata": {},
          "execution_count": 47
        }
      ]
    },
    {
      "cell_type": "code",
      "source": [],
      "metadata": {
        "id": "Ne2KH9hEhBbw"
      },
      "execution_count": null,
      "outputs": []
    }
  ]
}